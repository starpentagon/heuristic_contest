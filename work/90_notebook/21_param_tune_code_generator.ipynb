{
 "cells": [
  {
   "cell_type": "markdown",
   "id": "f6fe4e3a-72bc-4edb-b670-299bab1c130a",
   "metadata": {},
   "source": [
    "# パラメタ定義"
   ]
  },
  {
   "cell_type": "code",
   "execution_count": 111,
   "id": "fae5b328-5001-45f7-b126-e76d2dd2cf77",
   "metadata": {},
   "outputs": [],
   "source": [
    "# パラメタ名, グループID, データ型(C++), データ型(Optuna), レンジ下限/上限(or 100%分割)\n",
    "param_def_list = [\n",
    "    ('MoveDelInsert', 'Grp01', 'int', 'split', -1, -1),\n",
    "    ('MoveRangeSwap', 'Grp01', 'int', 'split', -1, -1),\n",
    "    ('MoveRangeEndSwap', 'Grp01', 'int', 'split', -1, -1),\n",
    "    ('MoveMoveAdjSwap', 'Grp01', 'int', 'split', -1, -1),\n",
    "    ('RangeSwapMaxWidth', 'Grp02', 'int', 'int', 5, 100),\n",
    "]"
   ]
  },
  {
   "cell_type": "code",
   "execution_count": 112,
   "id": "d39c564b-3337-4c7d-bb67-e9d9552fe4c0",
   "metadata": {},
   "outputs": [],
   "source": [
    "def get_snake_case(param_name):\n",
    "    snake_str = ''\n",
    "    \n",
    "    for i in range(len(param_name)):\n",
    "        c = param_name[i]\n",
    "        if c.isupper():\n",
    "            if i > 0:\n",
    "                snake_str += '_'\n",
    "                \n",
    "        snake_str += c.lower()\n",
    "        \n",
    "    return snake_str"
   ]
  },
  {
   "cell_type": "markdown",
   "id": "5e4082af-64e7-48bc-a709-419c4f1e1801",
   "metadata": {},
   "source": [
    "# Parameter.cpp/Parameter.hpp用"
   ]
  },
  {
   "cell_type": "code",
   "execution_count": 113,
   "id": "3adf2426-ce14-4e14-971c-848a09d7547d",
   "metadata": {},
   "outputs": [
    {
     "name": "stdout",
     "output_type": "stream",
     "text": [
      "int move_del_insert_;\n",
      "int move_range_end_swap_;\n",
      "int range_swap_max_width_;\n"
     ]
    }
   ],
   "source": [
    "# 変数定義\n",
    "for param_namme, _, type_name, _, _, _ in param_def_list:\n",
    "    print('{} {};'.format(type_name, get_snake_case(param_namme) + '_'))\n"
   ]
  },
  {
   "cell_type": "code",
   "execution_count": 114,
   "id": "dfd328d5-946b-4801-92c7-ad335bf70701",
   "metadata": {},
   "outputs": [
    {
     "name": "stdout",
     "output_type": "stream",
     "text": [
      "int GetMoveDelInsert() const;\n",
      "void SetMoveDelInsert(int val);\n",
      "\n",
      "int GetMoveRangeEndSwap() const;\n",
      "void SetMoveRangeEndSwap(int val);\n",
      "\n",
      "int GetRangeSwapMaxWidth() const;\n",
      "void SetRangeSwapMaxWidth(int val);\n",
      "\n"
     ]
    }
   ],
   "source": [
    "# 関数宣言\n",
    "for param_namme, _, type_name, _, _, _ in param_def_list:\n",
    "    print('{} Get{}() const;'.format(type_name, param_namme))\n",
    "    print('void Set{}({} val);'.format(param_namme, type_name))\n",
    "    print()\n"
   ]
  },
  {
   "cell_type": "code",
   "execution_count": 115,
   "id": "a9ac3d6a-68bb-42e4-9650-23dba02c60a9",
   "metadata": {},
   "outputs": [],
   "source": [
    "group_elems_dict = {}\n",
    "\n",
    "for param_namme, group_name, _, _, _, _ in param_def_list:\n",
    "    if group_name not in group_elems_dict.keys():\n",
    "        group_elems_dict[group_name] = []\n",
    "        \n",
    "    group_elems_dict[group_name].append(param_namme)"
   ]
  },
  {
   "cell_type": "code",
   "execution_count": 116,
   "id": "a8606478-dc61-40eb-8c6b-793995233134",
   "metadata": {},
   "outputs": [
    {
     "name": "stdout",
     "output_type": "stream",
     "text": [
      "move_del_insert_(50),\n",
      "move_range_end_swap_(50),\n",
      "range_swap_max_width_(52.5),\n"
     ]
    }
   ],
   "source": [
    "# 変数初期値の定義\n",
    "for param_namme, group_name, type_name, py_type_name, val_lb, val_ub in param_def_list:\n",
    "    if py_type_name == 'split':\n",
    "        val = 100 // len(group_elems_dict[group_name])\n",
    "    else:\n",
    "        val = (val_lb + val_ub) / 2\n",
    "\n",
    "    print('{}({}),'.format(get_snake_case(param_namme) + '_', val))"
   ]
  },
  {
   "cell_type": "code",
   "execution_count": 117,
   "id": "b9c943dd-e4bd-49e0-afff-41b0161efcac",
   "metadata": {},
   "outputs": [
    {
     "name": "stdout",
     "output_type": "stream",
     "text": [
      "int Parameter::GetMoveDelInsert() const {\n",
      "   return move_del_insert_;\n",
      "}\n",
      "\n",
      "void Parameter::SetMoveDelInsert(int val) {\n",
      "   move_del_insert_ = val;\n",
      "}\n",
      "\n",
      "int Parameter::GetMoveRangeEndSwap() const {\n",
      "   return move_range_end_swap_;\n",
      "}\n",
      "\n",
      "void Parameter::SetMoveRangeEndSwap(int val) {\n",
      "   move_range_end_swap_ = val;\n",
      "}\n",
      "\n",
      "int Parameter::GetRangeSwapMaxWidth() const {\n",
      "   return range_swap_max_width_;\n",
      "}\n",
      "\n",
      "void Parameter::SetRangeSwapMaxWidth(int val) {\n",
      "   range_swap_max_width_ = val;\n",
      "}\n",
      "\n"
     ]
    }
   ],
   "source": [
    "# 関数定義\n",
    "for param_namme, _, type_name, _, _, _ in param_def_list:\n",
    "    print('{} Parameter::Get{}() const {{'.format(type_name, param_namme))\n",
    "    print('   return {};'.format(get_snake_case(param_namme) + '_'))\n",
    "    print('}')\n",
    "    print()\n",
    "    \n",
    "    print('void Parameter::Set{}({} val) {{'.format(param_namme, type_name))\n",
    "    print('   {} = val;'.format(get_snake_case(param_namme) + '_'))\n",
    "    print('}')\n",
    "    print()\n"
   ]
  },
  {
   "cell_type": "markdown",
   "id": "c4b72be3-e730-4ce5-bea0-1cf4915c9f63",
   "metadata": {},
   "source": [
    "# Optuna用バイナリ"
   ]
  },
  {
   "cell_type": "code",
   "execution_count": 118,
   "id": "532380ca-de4b-4066-aaa4-20403f7319a6",
   "metadata": {},
   "outputs": [
    {
     "name": "stdout",
     "output_type": "stream",
     "text": [
      "   // -- param input start --\n",
      "   int move_del_insert;\n",
      "   cin >> move_del_insert;\n",
      "   param.SetMoveDelInsert(move_del_insert);\n",
      "\n",
      "   int move_range_end_swap;\n",
      "   cin >> move_range_end_swap;\n",
      "   param.SetMoveRangeEndSwap(move_range_end_swap);\n",
      "\n",
      "   int range_swap_max_width;\n",
      "   cin >> range_swap_max_width;\n",
      "   param.SetRangeSwapMaxWidth(range_swap_max_width);\n",
      "\n",
      "   // -- param input end --\n"
     ]
    }
   ],
   "source": [
    "print('   // -- param input start --')\n",
    "\n",
    "for param_namme, _, type_name, _, _, _ in param_def_list:\n",
    "    print('   {} {};'.format(type_name, get_snake_case(param_namme)))\n",
    "    print('   cin >> {};'.format(get_snake_case(param_namme)))\n",
    "    print('   param.Set{}({});'.format(param_namme, get_snake_case(param_namme)))\n",
    "\n",
    "    print()\n",
    "print('   // -- param input end --')"
   ]
  },
  {
   "cell_type": "markdown",
   "id": "809a1cdf-dc4b-491b-b023-d2c4357389db",
   "metadata": {},
   "source": [
    "# Optuna用Notebook"
   ]
  },
  {
   "cell_type": "code",
   "execution_count": 119,
   "id": "0ec30e42-49f6-427d-849e-7de352ec6b6f",
   "metadata": {},
   "outputs": [
    {
     "name": "stdout",
     "output_type": "stream",
     "text": [
      "init_param_list = [\n",
      "\t50,\n",
      "\t50,\n",
      "\t52,\n",
      "]\n"
     ]
    }
   ],
   "source": [
    "print('init_param_list = [')\n",
    "for param_namme, group_name, type_name, py_type_name, val_lb, val_ub in param_def_list:\n",
    "    if py_type_name == 'split':\n",
    "        val = 100 // len(group_elems_dict[group_name])\n",
    "    else:\n",
    "        val = (val_lb + val_ub) // 2\n",
    "\n",
    "    print('\\t{},'.format(val))\n",
    "print(']')"
   ]
  },
  {
   "cell_type": "code",
   "execution_count": 121,
   "id": "19ed9dd8-2dba-4c9a-af4b-c7f82b39f8c9",
   "metadata": {},
   "outputs": [
    {
     "name": "stdout",
     "output_type": "stream",
     "text": [
      "    u_move_del_insert = trial.suggest_float('u_move_del_insert', 0.0001, 1.0)\n",
      "    u_move_range_end_swap = trial.suggest_float('u_move_range_end_swap', 0.0001, 1.0)\n",
      "    range_swap_max_width = trial.suggest_int('range_swap_max_width', 5, 100)\n",
      "\n",
      "    x_move_del_insert = -np.log(u_move_del_insert)\n",
      "    x_move_range_end_swap = -np.log(u_move_range_end_swap)\n",
      "    grp01 = x_move_del_insert + x_move_range_end_swap\n",
      "\n",
      "    move_del_insert = round(100 * x_move_del_insert / grp01)\n",
      "    move_range_end_swap = round(100 * x_move_range_end_swap / grp01)\n",
      "\n",
      "    param_list = []\n",
      "    param_list.append(move_del_insert)\n",
      "    param_list.append(move_range_end_swap)\n",
      "    param_list.append(range_swap_max_width)\n"
     ]
    }
   ],
   "source": [
    "add_prefix = lambda x: 'x_' + x\n",
    "\n",
    "# trial定義\n",
    "for param_namme, group_name, type_name, py_type_name, val_lb, val_ub in param_def_list:\n",
    "    t = py_type_name\n",
    "    snake_name = get_snake_case(param_namme)\n",
    "    \n",
    "    if t == 'split':\n",
    "        snake_name = 'u_' + snake_name\n",
    "        t = 'float'\n",
    "        val_lb = 0.0001\n",
    "        val_ub = 1.0\n",
    "        \n",
    "    print(\"    {} = trial.suggest_{}('{}', {}, {})\".format(snake_name, t, snake_name, val_lb, val_ub))\n",
    "\n",
    "print()\n",
    "\n",
    "# ディリクレ分布への変換\n",
    "for param_namme, group_name, type_name, py_type_name, val_lb, val_ub in param_def_list:\n",
    "    snake_name = get_snake_case(param_namme)\n",
    "    \n",
    "    if py_type_name == 'split':\n",
    "        print('    {} = -np.log({})'.format('x_' + snake_name, 'u_' + snake_name))\n",
    "\n",
    "for group_name, elem_list in group_elems_dict.items():\n",
    "    if len(elem_list) == 1:\n",
    "        continue\n",
    "\n",
    "    sum_str = ' + '.join(map(add_prefix, map(get_snake_case, elem_list)))\n",
    "    print('    {} = {}'.format(get_snake_case(group_name), sum_str))\n",
    "print()\n",
    "\n",
    "for param_namme, group_name, type_name, py_type_name, val_lb, val_ub in param_def_list:\n",
    "    snake_name = get_snake_case(param_namme)\n",
    "    \n",
    "    if py_type_name == 'split':\n",
    "        print('    {} = round(100 * {} / {})'.format(snake_name, 'x_' + snake_name, get_snake_case(group_name)))\n",
    "\n",
    "print()\n",
    "print('    param_list = []')\n",
    "\n",
    "for param_namme, group_name, type_name, py_type_name, val_lb, val_ub in param_def_list:\n",
    "    snake_name = get_snake_case(param_namme)\n",
    "    print('    param_list.append({})'.format(snake_name))"
   ]
  },
  {
   "cell_type": "code",
   "execution_count": 123,
   "id": "aebc9b7f-b2c6-43fd-aeed-fb60fc7b114c",
   "metadata": {},
   "outputs": [
    {
     "name": "stdout",
     "output_type": "stream",
     "text": [
      "study.enqueue_trial({\n",
      "    'move_del_insert': init_param_list[0],\n",
      "    'move_range_end_swap': init_param_list[1],\n",
      "    'range_swap_max_width': init_param_list[2],\n",
      "})\n"
     ]
    }
   ],
   "source": [
    "print('study.enqueue_trial({')\n",
    "\n",
    "for i in range(len(param_def_list)):\n",
    "    param_namme = param_def_list[i][0]\n",
    "    snake_name = get_snake_case(param_namme)\n",
    "\n",
    "    print(\"    '{}': init_param_list[{}],\".format(snake_name, i))\n",
    "\n",
    "print('})')"
   ]
  },
  {
   "cell_type": "code",
   "execution_count": 124,
   "id": "0fc07d32-49fb-4522-8c61-371b37c34fee",
   "metadata": {},
   "outputs": [
    {
     "name": "stdout",
     "output_type": "stream",
     "text": [
      "x_move_del_insert = -np.log(study.best_params[\"u_move_del_insert\"])\n",
      "x_move_range_end_swap = -np.log(study.best_params[\"u_move_range_end_swap\"])\n",
      "grp01 = x_move_del_insert + x_move_range_end_swap\n",
      "\n",
      "print(\"move_del_insert = {}\".format(round(100 * x_move_del_insert / grp01)))\n",
      "print(\"move_range_end_swap = {}\".format(round(100 * x_move_range_end_swap / grp01)))\n"
     ]
    }
   ],
   "source": [
    "# [0, 100)変換\n",
    "for param_namme, group_name, type_name, py_type_name, val_lb, val_ub in param_def_list:\n",
    "    snake_name = get_snake_case(param_namme)\n",
    "    \n",
    "    if py_type_name == 'split':\n",
    "        print('{} = -np.log(study.best_params[\"{}\"])'.format('x_' + snake_name, 'u_' + snake_name))\n",
    "\n",
    "for group_name, elem_list in group_elems_dict.items():\n",
    "    if len(elem_list) == 1:\n",
    "        continue\n",
    "\n",
    "    sum_str = ' + '.join(map(add_prefix, map(get_snake_case, elem_list)))\n",
    "    print('{} = {}'.format(get_snake_case(group_name), sum_str))\n",
    "print()\n",
    "\n",
    "for param_namme, group_name, type_name, py_type_name, val_lb, val_ub in param_def_list:\n",
    "    snake_name = get_snake_case(param_namme)\n",
    "    \n",
    "    if py_type_name == 'split':\n",
    "        print('print(\"{} = {{}}\".format(round(100 * x_{} / {})))'.format(snake_name, snake_name, get_snake_case(group_name)))"
   ]
  },
  {
   "cell_type": "code",
   "execution_count": null,
   "id": "8b2fcdd5-76ca-47af-a859-d5106d25ba7a",
   "metadata": {},
   "outputs": [],
   "source": []
  }
 ],
 "metadata": {
  "kernelspec": {
   "display_name": "Python 3 (ipykernel)",
   "language": "python",
   "name": "python3"
  },
  "language_info": {
   "codemirror_mode": {
    "name": "ipython",
    "version": 3
   },
   "file_extension": ".py",
   "mimetype": "text/x-python",
   "name": "python",
   "nbconvert_exporter": "python",
   "pygments_lexer": "ipython3",
   "version": "3.11.6"
  }
 },
 "nbformat": 4,
 "nbformat_minor": 5
}
