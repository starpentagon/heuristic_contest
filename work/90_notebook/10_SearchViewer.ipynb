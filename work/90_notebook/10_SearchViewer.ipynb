{
 "cells": [
  {
   "cell_type": "code",
   "execution_count": 1,
   "id": "9da74001",
   "metadata": {},
   "outputs": [],
   "source": [
    "import os\n",
    "import glob\n",
    "\n",
    "import plotly.express as px\n",
    "import plotly.graph_objects as go"
   ]
  },
  {
   "cell_type": "code",
   "execution_count": 2,
   "id": "03677fd3",
   "metadata": {},
   "outputs": [],
   "source": [
    "PRJ_DIR = os.path.join('/home', 'jovyan', 'work')\n",
    "TESTSET_DIR = os.path.join(PRJ_DIR, '01_testset')"
   ]
  },
  {
   "cell_type": "code",
   "execution_count": 3,
   "id": "73dea7b1",
   "metadata": {},
   "outputs": [],
   "source": [
    "def read_shapes(seed):\n",
    "    problem_path = os.path.join(TESTSET_DIR, 'in', '{:0>4}.txt'.format(seed)) \n",
    "\n",
    "    shapes = []\n",
    "\n",
    "    with open(problem_path, 'r') as f:\n",
    "        D = int(f.readline())  \n",
    "\n",
    "        for i in range(2):\n",
    "            planes = []\n",
    "\n",
    "            for p in range(2):\n",
    "                plane = []\n",
    "\n",
    "                for z in range(D):\n",
    "                    vals = list(map(int, f.readline().rstrip()))\n",
    "                    plane.append(vals)\n",
    "\n",
    "                planes.append(plane)\n",
    "\n",
    "            shapes.append(planes)\n",
    "    \n",
    "    return D, shapes"
   ]
  },
  {
   "cell_type": "code",
   "execution_count": 4,
   "id": "57a59c41",
   "metadata": {},
   "outputs": [],
   "source": [
    "def read_blocks(iter_count):\n",
    "    blocks = []    \n",
    "    \n",
    "    if iter_count == -1:\n",
    "        block_path = os.path.join(PRJ_DIR, '03_min_block', 'search_log', 'init.txt')\n",
    "    else:\n",
    "        block_path = os.path.join(PRJ_DIR, '03_min_block', 'search_log', 'iter_{}.txt'.format(iter_count))\n",
    "\n",
    "    with open(block_path, 'r') as f:\n",
    "        # 先頭はコメント\n",
    "        comment = f.readline().rstrip()\n",
    "\n",
    "        B = int(f.readline())\n",
    "\n",
    "        for b in range(2):\n",
    "            line = f.readline().rstrip().split()\n",
    "            vals = list(map(int, line))\n",
    "\n",
    "            block = []\n",
    "            i = 0\n",
    "\n",
    "            for x in range(D):\n",
    "                plane = []\n",
    "\n",
    "                for y in range(D):\n",
    "                    z_vals = []\n",
    "\n",
    "                    for z in range(D):\n",
    "                        z_vals.append(vals[i])\n",
    "                        i += 1\n",
    "\n",
    "                    plane.append(z_vals)\n",
    "\n",
    "                block.append(plane)\n",
    "\n",
    "            blocks.append(block)    \n",
    "    \n",
    "    return comment, B, blocks"
   ]
  },
  {
   "cell_type": "code",
   "execution_count": 5,
   "id": "efc568c6",
   "metadata": {},
   "outputs": [],
   "source": [
    "def show_shape(shape_index):\n",
    "    planes = shapes[shape_index]\n",
    "\n",
    "    fig = go.Figure()\n",
    "\n",
    "    for z in range(D):\n",
    "        # zx平面のシルエット\n",
    "        for x in range(D):\n",
    "            s = planes[0][z][x]\n",
    "\n",
    "            x_list = [x, x + 1, x, x + 1, x, x + 1, x, x + 1]\n",
    "            y_list = [-1, -1, -1, -1, -0.9, -0.9, -0.9, -0.9]\n",
    "            z_list = [-z, -z, -z - 1, -z - 1, -z, -z, -z - 1, -z - 1]\n",
    "\n",
    "            c = 'white' if s == 0 else 'gray'\n",
    "            fig.add_trace(go.Mesh3d(x=x_list, y=y_list, z=z_list, alphahull=0, color=c, opacity=0.9))\n",
    "\n",
    "        # zy平面のシルエット\n",
    "        for y in range(D):\n",
    "            s = planes[1][z][y]\n",
    "\n",
    "            x_list = [-1, -1, -1, -1, -0.9, -0.9, -0.9, -0.9]\n",
    "            y_list = [y, y + 1, y, y + 1, y, y + 1, y, y + 1]\n",
    "            z_list = [-z, -z, -z - 1, -z - 1, -z, -z, -z - 1, -z - 1]\n",
    "\n",
    "            c = 'white' if s == 0 else 'gray'\n",
    "            fig.add_trace(go.Mesh3d(x=x_list, y=y_list, z=z_list, alphahull=0, color=c, opacity=0.9))\n",
    "\n",
    "    # Block        \n",
    "    block = blocks[shape_index]\n",
    "\n",
    "    color_map = px.colors.cyclical.HSV\n",
    "    color_size = len(color_map)\n",
    "\n",
    "    for x in range(D):\n",
    "        for y in range(D):\n",
    "            for z in range(D):\n",
    "                cell = block[x][y][z]\n",
    "\n",
    "                if cell == 0:\n",
    "                    continue\n",
    "\n",
    "                x_list = [x ,  x+1, x  , x    , x+1, x+1 , x   , x+1]\n",
    "                y_list = [y ,  y  , y+1, y    , y+1, y   , y+1 , y+1]\n",
    "                z_list = [-z, -z  , -z , -z-1, -z , -z-1, -z-1, -z-1]\n",
    "\n",
    "                if B >= color_size:\n",
    "                    color = color_map[(cell-1) % color_size]\n",
    "                else:\n",
    "                    color = color_map[(cell-1) * color_size // B]\n",
    "\n",
    "                fig.add_trace(go.Mesh3d(x=x_list, y=y_list, z=z_list, alphahull=0, color=color, opacity=0.8))\n",
    "\n",
    "\n",
    "\n",
    "    fig.update_layout(\n",
    "        scene = dict(\n",
    "            xaxis=dict(range=[-1, D+1]),\n",
    "            yaxis=dict(range=[-1, D+1]),\n",
    "            #zaxis=dict(range=(0, D+1)),    \n",
    "        )\n",
    "    )\n",
    "\n",
    "    fig.show()"
   ]
  },
  {
   "cell_type": "code",
   "execution_count": 6,
   "id": "2764f706",
   "metadata": {},
   "outputs": [],
   "source": [
    "seed = 8\n",
    "D, shapes = read_shapes(seed)\n",
    "\n",
    "search_log_list = []\n",
    "\n",
    "# 初期状態\n",
    "comment, B, blocks = read_blocks(-1)\n",
    "#search_log_list.append((comment, B, blocks))\n",
    "\n",
    "log_count = len(glob.glob(os.path.join(PRJ_DIR, '03_min_block', 'search_log', 'iter_*txt')))\n",
    "\n",
    "for i in range(log_count):\n",
    "    comment, B, blocks = read_blocks(i)\n",
    "    search_log_list.append((comment, B, blocks))"
   ]
  },
  {
   "cell_type": "code",
   "execution_count": 7,
   "id": "94d8c604",
   "metadata": {},
   "outputs": [
    {
     "name": "stdout",
     "output_type": "stream",
     "text": [
      "# Iter=0,Trans=6,Score=12,NextScore=11,Updated=1\n",
      "# Iter=1,Trans=6,Score=11,NextScore=10,Updated=1\n",
      "# Iter=2,Trans=6,Score=10,NextScore=9,Updated=1\n",
      "# Iter=3,Trans=6,Score=9,NextScore=8,Updated=1\n",
      "# Iter=4,Trans=0,Score=8,NextScore=4,Updated=1\n",
      "# Iter=5,Trans=6,Score=4,NextScore=2,Updated=1\n",
      "# Iter=6,Trans=6,Score=2,NextScore=1,Updated=1\n",
      "# Iter=196,Trans=0,Score=1,NextScore=1,Updated=1\n",
      "# Iter=420,Trans=0,Score=1,NextScore=1,Updated=1\n",
      "# Iter=428,Trans=0,Score=1,NextScore=1,Updated=1\n",
      "# Iter=712,Trans=0,Score=1,NextScore=1,Updated=1\n",
      "# Iter=836,Trans=0,Score=1,NextScore=1,Updated=1\n",
      "# Iter=932,Trans=0,Score=1,NextScore=1,Updated=1\n"
     ]
    }
   ],
   "source": [
    "for i in range(log_count):\n",
    "    comment,_,_ = search_log_list[i]\n",
    "    if 'Updated=1' in comment:\n",
    "        print(comment)"
   ]
  },
  {
   "cell_type": "code",
   "execution_count": 8,
   "id": "356f5e82",
   "metadata": {},
   "outputs": [],
   "source": [
    "iter_index = 196\n",
    "comment, B, blocks = search_log_list[iter_index]"
   ]
  },
  {
   "cell_type": "code",
   "execution_count": 9,
   "id": "0930b8a1",
   "metadata": {},
   "outputs": [],
   "source": [
    "# ブロック数のチェック\n",
    "for b in range(1, B+1):\n",
    "    cnt_1 = 0\n",
    "    cnt_2 = 0\n",
    "    \n",
    "    block_1 = blocks[0]\n",
    "    block_2 = blocks[1]\n",
    "    \n",
    "    for x in range(D):\n",
    "        for y in range(D):\n",
    "            for z in range(D):\n",
    "                cell_1 = block_1[x][y][z]\n",
    "                \n",
    "                if cell_1 == b:\n",
    "                    cnt_1 += 1\n",
    "                    \n",
    "                cell_2 = block_2[x][y][z]\n",
    "                \n",
    "                if cell_2 == b:\n",
    "                    cnt_2 += 1\n",
    "        \n",
    "    if cnt_1 != cnt_2:\n",
    "        print(b, cnt_1, cnt_2)"
   ]
  },
  {
   "cell_type": "code",
   "execution_count": 10,
   "id": "3a8787fe",
   "metadata": {},
   "outputs": [
    {
     "data": {
      "text/plain": [
       "'# Iter=196,Trans=0,Score=1,NextScore=1,Updated=1'"
      ]
     },
     "execution_count": 10,
     "metadata": {},
     "output_type": "execute_result"
    }
   ],
   "source": [
    "comment"
   ]
  },
  {
   "cell_type": "code",
   "execution_count": null,
   "id": "05bb6073",
   "metadata": {},
   "outputs": [],
   "source": []
  }
 ],
 "metadata": {
  "kernelspec": {
   "display_name": "Python 3 (ipykernel)",
   "language": "python",
   "name": "python3"
  },
  "language_info": {
   "codemirror_mode": {
    "name": "ipython",
    "version": 3
   },
   "file_extension": ".py",
   "mimetype": "text/x-python",
   "name": "python",
   "nbconvert_exporter": "python",
   "pygments_lexer": "ipython3",
   "version": "3.11.3"
  }
 },
 "nbformat": 4,
 "nbformat_minor": 5
}
