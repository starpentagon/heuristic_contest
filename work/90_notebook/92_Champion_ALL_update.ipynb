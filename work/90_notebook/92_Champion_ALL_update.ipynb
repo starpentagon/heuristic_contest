{
 "cells": [
  {
   "cell_type": "code",
   "execution_count": 1,
   "metadata": {},
   "outputs": [],
   "source": [
    "import os\n",
    "import glob\n",
    "\n",
    "import time\n",
    "import datetime\n",
    "\n",
    "import numpy as np\n",
    "import pandas as pd\n",
    "\n",
    "from matplotlib import pyplot as plt"
   ]
  },
  {
   "cell_type": "code",
   "execution_count": 2,
   "metadata": {},
   "outputs": [],
   "source": [
    "# 実行結果の日付\n",
    "log_datetime = '20230402_0224'"
   ]
  },
  {
   "cell_type": "code",
   "execution_count": 4,
   "metadata": {},
   "outputs": [
    {
     "name": "stdout",
     "output_type": "stream",
     "text": [
      "/home/jovyan/work/result/20230402_0224_min-block-expand_02_testset_sys_main.csv\n",
      "\n",
      "Prog tag: min-block-expand\n"
     ]
    }
   ],
   "source": [
    "RESULT_FILES =  os.path.join('/home', 'jovyan', 'work', 'result', '*.csv')\n",
    "\n",
    "result_list = []\n",
    "\n",
    "for file in glob.glob(RESULT_FILES):\n",
    "    if log_datetime not in file:\n",
    "        continue\n",
    "        \n",
    "    print(file)\n",
    "    result_list.append(file)\n",
    "    \n",
    "    prog_tag = file.replace('.csv', '').split('/')[-1]\n",
    "    prog_tag = \"_\".join(prog_tag.split('_')[2:3])\n",
    "    \n",
    "print()\n",
    "print('Prog tag: ' + prog_tag)"
   ]
  },
  {
   "cell_type": "code",
   "execution_count": 5,
   "metadata": {},
   "outputs": [],
   "source": [
    "CHAMP_DIR = os.path.join('/home', 'jovyan', 'work', 'result', 'champion')\n",
    "\n",
    "champ_path = os.path.join(CHAMP_DIR, 'champ_all.csv')\n",
    "champ_df = pd.read_csv(champ_path)\n",
    "champ_df_bk = champ_df.copy()"
   ]
  },
  {
   "cell_type": "code",
   "execution_count": 6,
   "metadata": {},
   "outputs": [],
   "source": [
    "def update_champion(file_name, champ_df):\n",
    "    result_df = pd.read_csv(file_name)\n",
    "\n",
    "    result_df = result_df[['seed', 'score', 'result']]\n",
    "\n",
    "    merge_df = pd.merge(champ_df, result_df, on=['seed'], how='left')\n",
    "\n",
    "    print('New highest record: {}'.format(sum(merge_df['champion_score'] > merge_df['score'])))\n",
    "    \n",
    "    new_record = merge_df['champion_score'] >= merge_df['score']\n",
    "\n",
    "    merge_df.loc[new_record, 'champion_score'] = merge_df[new_record]['score']\n",
    "    merge_df.loc[new_record, 'champion_result'] = merge_df[new_record]['result']\n",
    "    merge_df.loc[new_record, 'champion'] = prog_tag\n",
    "\n",
    "    merge_df.drop('score', axis=1, inplace=True)\n",
    "    merge_df.drop('result', axis=1, inplace=True)\n",
    "    \n",
    "    return merge_df"
   ]
  },
  {
   "cell_type": "code",
   "execution_count": 7,
   "metadata": {},
   "outputs": [
    {
     "name": "stdout",
     "output_type": "stream",
     "text": [
      "New highest record: 83\n"
     ]
    }
   ],
   "source": [
    "for file in result_list:\n",
    "    champ_df = update_champion(file, champ_df)"
   ]
  },
  {
   "cell_type": "code",
   "execution_count": 8,
   "metadata": {
    "scrolled": true
   },
   "outputs": [
    {
     "name": "stdout",
     "output_type": "stream",
     "text": [
      "New updated record: 84 problems\n"
     ]
    }
   ],
   "source": [
    "f_all = champ_df['champion'] == prog_tag\n",
    "print('New updated record: {} problems'.format(sum(f_all)))"
   ]
  },
  {
   "cell_type": "markdown",
   "metadata": {},
   "source": [
    "## 結果を更新"
   ]
  },
  {
   "cell_type": "code",
   "execution_count": 9,
   "metadata": {},
   "outputs": [],
   "source": [
    "t_now = datetime.datetime.now() + datetime.timedelta(hours=9)\n",
    "time_str = t_now.strftime('%Y%m%d_%H%M')\n",
    "    \n",
    "if sum(f_all) > 0:\n",
    "    champ_backup_path = champ_path.replace('.csv', '_' + time_str + '.csv')\n",
    "    champ_df.to_csv(champ_backup_path, index=False)\n",
    "\n",
    "    champ_df.to_csv(champ_path, index=False)"
   ]
  },
  {
   "cell_type": "code",
   "execution_count": null,
   "metadata": {},
   "outputs": [],
   "source": []
  },
  {
   "cell_type": "markdown",
   "metadata": {},
   "source": [
    "## 初期化"
   ]
  },
  {
   "cell_type": "code",
   "execution_count": 32,
   "metadata": {},
   "outputs": [],
   "source": [
    "if False:\n",
    "    # テストケースマスタ\n",
    "    MASTER_PATH = os.path.join('/home', 'jovyan', 'work', '01_testset', '03_testset_stress_master.csv')\n",
    "    master_df = pd.read_csv(MASTER_PATH)\n",
    "\n",
    "    master_df['champion'] = 'undef'\n",
    "    master_df['champion_score'] = 14*14*14 * 10 ** 9\n",
    "    master_df['champion_result'] = 'undef'\n",
    "\n",
    "    INIT_PATH = os.path.join('/home', 'jovyan', 'work', 'result', 'champion', 'champ_init.csv')\n",
    "    master_df.to_csv(INIT_PATH, index=False)"
   ]
  },
  {
   "cell_type": "code",
   "execution_count": null,
   "metadata": {},
   "outputs": [],
   "source": []
  }
 ],
 "metadata": {
  "kernelspec": {
   "display_name": "Python 3 (ipykernel)",
   "language": "python",
   "name": "python3"
  },
  "language_info": {
   "codemirror_mode": {
    "name": "ipython",
    "version": 3
   },
   "file_extension": ".py",
   "mimetype": "text/x-python",
   "name": "python",
   "nbconvert_exporter": "python",
   "pygments_lexer": "ipython3",
   "version": "3.10.9"
  }
 },
 "nbformat": 4,
 "nbformat_minor": 4
}
