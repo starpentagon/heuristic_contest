{
 "cells": [
  {
   "cell_type": "code",
   "execution_count": 1,
   "metadata": {},
   "outputs": [],
   "source": [
    "import os\n",
    "\n",
    "import numpy as np\n",
    "import pandas as pd\n",
    "\n",
    "from matplotlib import pyplot as plt"
   ]
  },
  {
   "cell_type": "code",
   "execution_count": 2,
   "metadata": {},
   "outputs": [],
   "source": [
    "#CHAMP_PATH = os.path.join('/home', 'jovyan', 'work', 'result', 'champion', 'champ.csv')\n",
    "CHAMP_PATH = os.path.join('/home', 'jovyan', 'work', 'result', 'champion', 'champ_all.csv')\n",
    "champ_df = pd.read_csv(CHAMP_PATH)"
   ]
  },
  {
   "cell_type": "code",
   "execution_count": 4,
   "metadata": {},
   "outputs": [
    {
     "data": {
      "text/html": [
       "<div>\n",
       "<style scoped>\n",
       "    .dataframe tbody tr th:only-of-type {\n",
       "        vertical-align: middle;\n",
       "    }\n",
       "\n",
       "    .dataframe tbody tr th {\n",
       "        vertical-align: top;\n",
       "    }\n",
       "\n",
       "    .dataframe thead th {\n",
       "        text-align: right;\n",
       "    }\n",
       "</style>\n",
       "<table border=\"1\" class=\"dataframe\">\n",
       "  <thead>\n",
       "    <tr style=\"text-align: right;\">\n",
       "      <th></th>\n",
       "      <th>seed</th>\n",
       "      <th>D</th>\n",
       "      <th>problem</th>\n",
       "      <th>champion</th>\n",
       "      <th>champion_score</th>\n",
       "      <th>champion_result</th>\n",
       "    </tr>\n",
       "  </thead>\n",
       "  <tbody>\n",
       "    <tr>\n",
       "      <th>0</th>\n",
       "      <td>0</td>\n",
       "      <td>5</td>\n",
       "      <td>5 10001 11011 11111 10101 10001 01110 11011 10...</td>\n",
       "      <td>beam-try10K-Cell4-Beam10</td>\n",
       "      <td>476190476</td>\n",
       "      <td>4R0-3-3-3-0-2-2-0-3-3-0-0-0-0-3-0-0-0-3-3-0-0-...</td>\n",
       "    </tr>\n",
       "    <tr>\n",
       "      <th>1</th>\n",
       "      <td>7</td>\n",
       "      <td>6</td>\n",
       "      <td>6 001111 000011 000101 000111 000011 000110 11...</td>\n",
       "      <td>cellpair-3-beam-5-50K</td>\n",
       "      <td>824675325</td>\n",
       "      <td>5R0-0-0-0-0-0-0-0-0-0-0-0-0-0-0-0-0-0-0-0-0-0-...</td>\n",
       "    </tr>\n",
       "    <tr>\n",
       "      <th>2</th>\n",
       "      <td>12</td>\n",
       "      <td>7</td>\n",
       "      <td>7 0001010 0001110 0000011 0000111 0000011 0111...</td>\n",
       "      <td>beam-try10K-Cell4-Beam10</td>\n",
       "      <td>283333333</td>\n",
       "      <td>3R0-0-0-0-0-0-0-0-0-0-0-0-0-0-0-0-0-0-0-0-0-0-...</td>\n",
       "    </tr>\n",
       "    <tr>\n",
       "      <th>3</th>\n",
       "      <td>1</td>\n",
       "      <td>8</td>\n",
       "      <td>8 00110000 00100000 00111000 11100000 01001000...</td>\n",
       "      <td>try100K-beam5</td>\n",
       "      <td>3214520202</td>\n",
       "      <td>10R0-0-0-0-0-0-0-0-0-0-0-1-0-0-0-0-0-0-0-1-0-2...</td>\n",
       "    </tr>\n",
       "    <tr>\n",
       "      <th>4</th>\n",
       "      <td>9</td>\n",
       "      <td>9</td>\n",
       "      <td>9 111000000 010100000 111111000 111110100 0111...</td>\n",
       "      <td>beam-try10K-Cell4-Beam10</td>\n",
       "      <td>1253064479</td>\n",
       "      <td>7R0-0-2-2-0-3-3-5-5-2-0-2-2-0-3-3-4-4-0-0-0-0-...</td>\n",
       "    </tr>\n",
       "    <tr>\n",
       "      <th>...</th>\n",
       "      <td>...</td>\n",
       "      <td>...</td>\n",
       "      <td>...</td>\n",
       "      <td>...</td>\n",
       "      <td>...</td>\n",
       "      <td>...</td>\n",
       "    </tr>\n",
       "    <tr>\n",
       "      <th>9995</th>\n",
       "      <td>9960</td>\n",
       "      <td>9</td>\n",
       "      <td>9 000000111 000011111 000011111 000001111 0000...</td>\n",
       "      <td>NaN</td>\n",
       "      <td>2744000000000</td>\n",
       "      <td>NaN</td>\n",
       "    </tr>\n",
       "    <tr>\n",
       "      <th>9996</th>\n",
       "      <td>9973</td>\n",
       "      <td>9</td>\n",
       "      <td>9 000000110 000011111 000011111 000011111 0000...</td>\n",
       "      <td>NaN</td>\n",
       "      <td>2744000000000</td>\n",
       "      <td>NaN</td>\n",
       "    </tr>\n",
       "    <tr>\n",
       "      <th>9997</th>\n",
       "      <td>9977</td>\n",
       "      <td>9</td>\n",
       "      <td>9 000000111 000011111 000001110 000011110 0001...</td>\n",
       "      <td>NaN</td>\n",
       "      <td>2744000000000</td>\n",
       "      <td>NaN</td>\n",
       "    </tr>\n",
       "    <tr>\n",
       "      <th>9998</th>\n",
       "      <td>9984</td>\n",
       "      <td>9</td>\n",
       "      <td>9 000000100 000000111 000000011 000001011 0000...</td>\n",
       "      <td>NaN</td>\n",
       "      <td>2744000000000</td>\n",
       "      <td>NaN</td>\n",
       "    </tr>\n",
       "    <tr>\n",
       "      <th>9999</th>\n",
       "      <td>9993</td>\n",
       "      <td>9</td>\n",
       "      <td>9 000001111 000000111 000001111 000001111 0000...</td>\n",
       "      <td>NaN</td>\n",
       "      <td>2744000000000</td>\n",
       "      <td>NaN</td>\n",
       "    </tr>\n",
       "  </tbody>\n",
       "</table>\n",
       "<p>10000 rows × 6 columns</p>\n",
       "</div>"
      ],
      "text/plain": [
       "      seed  D                                            problem  \\\n",
       "0        0  5  5 10001 11011 11111 10101 10001 01110 11011 10...   \n",
       "1        7  6  6 001111 000011 000101 000111 000011 000110 11...   \n",
       "2       12  7  7 0001010 0001110 0000011 0000111 0000011 0111...   \n",
       "3        1  8  8 00110000 00100000 00111000 11100000 01001000...   \n",
       "4        9  9  9 111000000 010100000 111111000 111110100 0111...   \n",
       "...    ... ..                                                ...   \n",
       "9995  9960  9  9 000000111 000011111 000011111 000001111 0000...   \n",
       "9996  9973  9  9 000000110 000011111 000011111 000011111 0000...   \n",
       "9997  9977  9  9 000000111 000011111 000001110 000011110 0001...   \n",
       "9998  9984  9  9 000000100 000000111 000000011 000001011 0000...   \n",
       "9999  9993  9  9 000001111 000000111 000001111 000001111 0000...   \n",
       "\n",
       "                      champion  champion_score  \\\n",
       "0     beam-try10K-Cell4-Beam10       476190476   \n",
       "1        cellpair-3-beam-5-50K       824675325   \n",
       "2     beam-try10K-Cell4-Beam10       283333333   \n",
       "3                try100K-beam5      3214520202   \n",
       "4     beam-try10K-Cell4-Beam10      1253064479   \n",
       "...                        ...             ...   \n",
       "9995                       NaN   2744000000000   \n",
       "9996                       NaN   2744000000000   \n",
       "9997                       NaN   2744000000000   \n",
       "9998                       NaN   2744000000000   \n",
       "9999                       NaN   2744000000000   \n",
       "\n",
       "                                        champion_result  \n",
       "0     4R0-3-3-3-0-2-2-0-3-3-0-0-0-0-3-0-0-0-3-3-0-0-...  \n",
       "1     5R0-0-0-0-0-0-0-0-0-0-0-0-0-0-0-0-0-0-0-0-0-0-...  \n",
       "2     3R0-0-0-0-0-0-0-0-0-0-0-0-0-0-0-0-0-0-0-0-0-0-...  \n",
       "3     10R0-0-0-0-0-0-0-0-0-0-0-1-0-0-0-0-0-0-0-1-0-2...  \n",
       "4     7R0-0-2-2-0-3-3-5-5-2-0-2-2-0-3-3-4-4-0-0-0-0-...  \n",
       "...                                                 ...  \n",
       "9995                                                NaN  \n",
       "9996                                                NaN  \n",
       "9997                                                NaN  \n",
       "9998                                                NaN  \n",
       "9999                                                NaN  \n",
       "\n",
       "[10000 rows x 6 columns]"
      ]
     },
     "execution_count": 4,
     "metadata": {},
     "output_type": "execute_result"
    }
   ],
   "source": [
    "champ_df"
   ]
  },
  {
   "cell_type": "code",
   "execution_count": 76,
   "metadata": {},
   "outputs": [],
   "source": [
    "info_df = pd.read_csv(os.path.join('/home', 'jovyan', 'work', '01_testset', '03_testset_stress_info.csv'))"
   ]
  },
  {
   "cell_type": "code",
   "execution_count": 77,
   "metadata": {},
   "outputs": [],
   "source": [
    "champ_df = pd.merge(champ_df, info_df[['seed', 'difficulty']], on='seed', how='left')"
   ]
  },
  {
   "cell_type": "code",
   "execution_count": 78,
   "metadata": {},
   "outputs": [],
   "source": [
    "champ_df['count'] = 1"
   ]
  },
  {
   "cell_type": "code",
   "execution_count": 79,
   "metadata": {},
   "outputs": [
    {
     "data": {
      "text/plain": [
       "977809464.5235"
      ]
     },
     "execution_count": 79,
     "metadata": {},
     "output_type": "execute_result"
    }
   ],
   "source": [
    "np.mean(champ_df.query('champion_score < 2744000000000')['champion_score'])"
   ]
  },
  {
   "cell_type": "markdown",
   "metadata": {},
   "source": [
    "## 全体比較"
   ]
  },
  {
   "cell_type": "code",
   "execution_count": 80,
   "metadata": {},
   "outputs": [
    {
     "data": {
      "image/png": "[encoded data removed]",
      "text/plain": [
       "<Figure size 640x480 with 1 Axes>"
      ]
     },
     "metadata": {},
     "output_type": "display_data"
    }
   ],
   "source": [
    "plot_df = champ_df[['champion', 'count']].groupby('champion').sum()\n",
    "\n",
    "x_list = plot_df.index\n",
    "y_list = plot_df['count']\n",
    "\n",
    "plt.bar(x_list, y_list)\n",
    "plt.xticks(rotation=90)\n",
    "plt.title('Champion');"
   ]
  },
  {
   "cell_type": "code",
   "execution_count": 81,
   "metadata": {},
   "outputs": [
    {
     "data": {
      "text/html": [
       "<div>\n",
       "<style scoped>\n",
       "    .dataframe tbody tr th:only-of-type {\n",
       "        vertical-align: middle;\n",
       "    }\n",
       "\n",
       "    .dataframe tbody tr th {\n",
       "        vertical-align: top;\n",
       "    }\n",
       "\n",
       "    .dataframe thead th {\n",
       "        text-align: right;\n",
       "    }\n",
       "</style>\n",
       "<table border=\"1\" class=\"dataframe\">\n",
       "  <thead>\n",
       "    <tr style=\"text-align: right;\">\n",
       "      <th></th>\n",
       "      <th>count</th>\n",
       "    </tr>\n",
       "    <tr>\n",
       "      <th>champion</th>\n",
       "      <th></th>\n",
       "    </tr>\n",
       "  </thead>\n",
       "  <tbody>\n",
       "    <tr>\n",
       "      <th>beam-dbl-state</th>\n",
       "      <td>1313</td>\n",
       "    </tr>\n",
       "    <tr>\n",
       "      <th>min-block-final</th>\n",
       "      <td>687</td>\n",
       "    </tr>\n",
       "  </tbody>\n",
       "</table>\n",
       "</div>"
      ],
      "text/plain": [
       "                 count\n",
       "champion              \n",
       "beam-dbl-state    1313\n",
       "min-block-final    687"
      ]
     },
     "execution_count": 81,
     "metadata": {},
     "output_type": "execute_result"
    }
   ],
   "source": [
    "plot_df"
   ]
  },
  {
   "cell_type": "markdown",
   "metadata": {},
   "source": [
    "## D別"
   ]
  },
  {
   "cell_type": "code",
   "execution_count": 82,
   "metadata": {},
   "outputs": [],
   "source": [
    "def xy_plot(plot_df, normalize=False):\n",
    "    fig, ax = plt.subplots(figsize=(10, 8))\n",
    "    \n",
    "    if normalize:\n",
    "        for col in plot_df.columns:\n",
    "            plot_df[col] = 100 * plot_df[col] / sum(plot_df[col])\n",
    "\n",
    "    for i in range(len(plot_df)):\n",
    "        ax.bar(plot_df.columns, plot_df.iloc[i], bottom=plot_df.iloc[:i].sum())\n",
    "\n",
    "    ax.set(xlabel=plot_df.columns.name, ylabel='count')\n",
    "    ax.legend(plot_df.index, bbox_to_anchor=(1.03, 1), loc='upper left')\n",
    "    plt.show();    "
   ]
  },
  {
   "cell_type": "code",
   "execution_count": 83,
   "metadata": {},
   "outputs": [],
   "source": [
    "plot_df = champ_df.pivot_table(index='champion', columns='D', values='count', aggfunc=\"sum\")"
   ]
  },
  {
   "cell_type": "code",
   "execution_count": 84,
   "metadata": {},
   "outputs": [
    {
     "data": {
      "image/png": "[encoded data removed]",
      "text/plain": [
       "<Figure size 1000x800 with 1 Axes>"
      ]
     },
     "metadata": {},
     "output_type": "display_data"
    }
   ],
   "source": [
    "xy_plot(plot_df)"
   ]
  },
  {
   "cell_type": "code",
   "execution_count": 85,
   "metadata": {},
   "outputs": [
    {
     "data": {
      "image/png": "[encoded data removed]",
      "text/plain": [
       "<Figure size 1000x800 with 1 Axes>"
      ]
     },
     "metadata": {},
     "output_type": "display_data"
    }
   ],
   "source": [
    "plot_df = check_df.pivot_table(index='champion', columns='difficulty', values='count', aggfunc=\"sum\")\n",
    "xy_plot(plot_df)"
   ]
  },
  {
   "cell_type": "code",
   "execution_count": 122,
   "metadata": {},
   "outputs": [],
   "source": [
    "check_df = champ_df.copy()\n",
    "check_df = check_df.query('D == 14')"
   ]
  },
  {
   "cell_type": "code",
   "execution_count": 123,
   "metadata": {},
   "outputs": [
    {
     "data": {
      "image/png": "[encoded data removed]",
      "text/plain": [
       "<Figure size 1000x800 with 1 Axes>"
      ]
     },
     "metadata": {},
     "output_type": "display_data"
    }
   ],
   "source": [
    "plot_df = check_df.pivot_table(index='champion', columns='difficulty', values='count', aggfunc=\"sum\")\n",
    "xy_plot(plot_df)"
   ]
  },
  {
   "cell_type": "code",
   "execution_count": 124,
   "metadata": {},
   "outputs": [
    {
     "data": {
      "text/html": [
       "<div>\n",
       "<style scoped>\n",
       "    .dataframe tbody tr th:only-of-type {\n",
       "        vertical-align: middle;\n",
       "    }\n",
       "\n",
       "    .dataframe tbody tr th {\n",
       "        vertical-align: top;\n",
       "    }\n",
       "\n",
       "    .dataframe thead th {\n",
       "        text-align: right;\n",
       "    }\n",
       "</style>\n",
       "<table border=\"1\" class=\"dataframe\">\n",
       "  <thead>\n",
       "    <tr style=\"text-align: right;\">\n",
       "      <th>difficulty</th>\n",
       "      <th>1</th>\n",
       "      <th>2</th>\n",
       "      <th>3</th>\n",
       "      <th>4</th>\n",
       "      <th>5</th>\n",
       "      <th>6</th>\n",
       "      <th>7</th>\n",
       "      <th>8</th>\n",
       "    </tr>\n",
       "    <tr>\n",
       "      <th>champion</th>\n",
       "      <th></th>\n",
       "      <th></th>\n",
       "      <th></th>\n",
       "      <th></th>\n",
       "      <th></th>\n",
       "      <th></th>\n",
       "      <th></th>\n",
       "      <th></th>\n",
       "    </tr>\n",
       "  </thead>\n",
       "  <tbody>\n",
       "    <tr>\n",
       "      <th>beam-dbl-state</th>\n",
       "      <td>34</td>\n",
       "      <td>11</td>\n",
       "      <td>23</td>\n",
       "      <td>22</td>\n",
       "      <td>15</td>\n",
       "      <td>5</td>\n",
       "      <td>9</td>\n",
       "      <td>7</td>\n",
       "    </tr>\n",
       "    <tr>\n",
       "      <th>min-block-final</th>\n",
       "      <td>36</td>\n",
       "      <td>2</td>\n",
       "      <td>14</td>\n",
       "      <td>10</td>\n",
       "      <td>2</td>\n",
       "      <td>6</td>\n",
       "      <td>1</td>\n",
       "      <td>3</td>\n",
       "    </tr>\n",
       "  </tbody>\n",
       "</table>\n",
       "</div>"
      ],
      "text/plain": [
       "difficulty        1   2   3   4   5  6  7  8\n",
       "champion                                    \n",
       "beam-dbl-state   34  11  23  22  15  5  9  7\n",
       "min-block-final  36   2  14  10   2  6  1  3"
      ]
     },
     "execution_count": 124,
     "metadata": {},
     "output_type": "execute_result"
    }
   ],
   "source": [
    "plot_df"
   ]
  },
  {
   "cell_type": "code",
   "execution_count": null,
   "metadata": {},
   "outputs": [],
   "source": []
  }
 ],
 "metadata": {
  "kernelspec": {
   "display_name": "Python 3 (ipykernel)",
   "language": "python",
   "name": "python3"
  },
  "language_info": {
   "codemirror_mode": {
    "name": "ipython",
    "version": 3
   },
   "file_extension": ".py",
   "mimetype": "text/x-python",
   "name": "python",
   "nbconvert_exporter": "python",
   "pygments_lexer": "ipython3",
   "version": "3.10.10"
  }
 },
 "nbformat": 4,
 "nbformat_minor": 4
}
